{
  "nbformat": 4,
  "nbformat_minor": 0,
  "metadata": {
    "colab": {
      "provenance": [],
      "include_colab_link": true
    },
    "kernelspec": {
      "name": "python3",
      "display_name": "Python 3"
    },
    "language_info": {
      "name": "python"
    }
  },
  "cells": [
    {
      "cell_type": "markdown",
      "metadata": {
        "id": "view-in-github",
        "colab_type": "text"
      },
      "source": [
        "<a href=\"https://colab.research.google.com/github/dave165189/Machine-learning/blob/main/Convert_Colored_Video_to_Grey_Scale.ipynb\" target=\"_parent\"><img src=\"https://colab.research.google.com/assets/colab-badge.svg\" alt=\"Open In Colab\"/></a>"
      ]
    },
    {
      "cell_type": "markdown",
      "source": [
        "----\n",
        "## **\"Convert Colored Video to Grey Scale (b/w)\" using OpenCV**\n",
        "----"
      ],
      "metadata": {
        "id": "7sZ8WOZIdWus"
      }
    },
    {
      "cell_type": "markdown",
      "source": [
        "----\n",
        "#### **Installing Important Libraries**\n",
        "----"
      ],
      "metadata": {
        "id": "fC5X5Bwvd3nn"
      }
    },
    {
      "cell_type": "code",
      "source": [
        "!pip install pytube"
      ],
      "metadata": {
        "colab": {
          "base_uri": "https://localhost:8080/"
        },
        "id": "_0-GgK1GYsqW",
        "outputId": "8ef2f81d-7f5c-4cee-ac8d-2ea4b33e3d91"
      },
      "execution_count": 6,
      "outputs": [
        {
          "output_type": "stream",
          "name": "stdout",
          "text": [
            "Looking in indexes: https://pypi.org/simple, https://us-python.pkg.dev/colab-wheels/public/simple/\n",
            "Requirement already satisfied: pytube in /usr/local/lib/python3.10/dist-packages (15.0.0)\n"
          ]
        }
      ]
    },
    {
      "cell_type": "markdown",
      "source": [
        "----\n",
        "#### **Importing Important Libraries**\n",
        "----"
      ],
      "metadata": {
        "id": "zEIQW0BaeD_1"
      }
    },
    {
      "cell_type": "code",
      "source": [
        "from pytube import YouTube"
      ],
      "metadata": {
        "id": "aXZXjELrYnjL"
      },
      "execution_count": 7,
      "outputs": []
    },
    {
      "cell_type": "markdown",
      "source": [
        "----\n",
        "#### **Defining Download Video Function**\n",
        "----"
      ],
      "metadata": {
        "id": "qUIZSKEOeRCD"
      }
    },
    {
      "cell_type": "code",
      "source": [
        "def download_video(url, output_path):\n",
        "    try:\n",
        "        # Create a YouTube object\n",
        "        youtube = YouTube(url)\n",
        "\n",
        "        # Get the highest resolution video stream\n",
        "        video = youtube.streams.get_highest_resolution()\n",
        "\n",
        "        # Download the video to the specified output path\n",
        "        video.download(output_path=output_path)\n",
        "\n",
        "        print(\"Video downloaded successfully!\")\n",
        "    except Exception as e:\n",
        "        print(f\"Error: {str(e)}\")"
      ],
      "metadata": {
        "id": "qHv341qTYnff"
      },
      "execution_count": null,
      "outputs": []
    },
    {
      "cell_type": "markdown",
      "source": [
        "----\n",
        "#### **Downloading Video**\n",
        "----"
      ],
      "metadata": {
        "id": "OjzhoLCKege-"
      }
    },
    {
      "cell_type": "code",
      "source": [
        "video_url = \"https://youtu.be/DK6IRG4CAbw\"\n",
        "output_path = \"./content/\"\n",
        "\n",
        "download_video(video_url, output_path)"
      ],
      "metadata": {
        "colab": {
          "base_uri": "https://localhost:8080/"
        },
        "id": "2u6YPI1QYnby",
        "outputId": "846985fc-ac6a-41a0-f86c-e3f007a77cad"
      },
      "execution_count": null,
      "outputs": [
        {
          "output_type": "stream",
          "name": "stdout",
          "text": [
            "Video downloaded successfully!\n"
          ]
        }
      ]
    },
    {
      "cell_type": "markdown",
      "source": [
        "----\n",
        "#### **Converting Coloured Video to Grey Scale**\n",
        "----"
      ],
      "metadata": {
        "id": "W6f2cACIYmuz"
      }
    },
    {
      "cell_type": "code",
      "source": [
        "import cv2\n",
        "\n",
        "# Open the video file\n",
        "video_path = \"https://youtu.be/DK6IRG4CAbw\"  # Replace with the actual video file path\n",
        "video = cv2.VideoCapture(video_path)\n",
        "\n",
        "# Get the video properties\n",
        "width = int(video.get(cv2.CAP_PROP_FRAME_WIDTH))\n",
        "height = int(video.get(cv2.CAP_PROP_FRAME_HEIGHT))\n",
        "fps = video.get(cv2.CAP_PROP_FPS)\n",
        "total_frames = int(video.get(cv2.CAP_PROP_FRAME_COUNT))\n",
        "\n",
        "# Create a VideoWriter object to save the grayscale video\n",
        "output_path = \"/content/file.mp4\"  # Replace with the desired output file path\n",
        "output = cv2.VideoWriter(output_path, cv2.VideoWriter_fourcc(*\"mp4v\"), fps, (width, height), isColor=False)\n",
        "\n",
        "# Process each frame of the video\n",
        "frame_count = 0\n",
        "while video.isOpened():\n",
        "    ret, frame = video.read()\n",
        "    if not ret:\n",
        "        break\n",
        "\n",
        "    # Convert the frame to grayscale\n",
        "    gray_frame = cv2.cvtColor(frame, cv2.COLOR_BGR2GRAY)\n",
        "\n",
        "    # Write the grayscale frame to the output video\n",
        "    output.write(gray_frame)\n",
        "\n",
        "    # Display the progress\n",
        "    frame_count += 1\n",
        "    print(f\"Processing frame {frame_count}/{total_frames}\")\n",
        "\n",
        "# Release the video capture and writer objects\n",
        "video.release()\n",
        "output.release()\n",
        "\n",
        "print(\"Grayscale video conversion completed.\")\n"
      ],
      "metadata": {
        "colab": {
          "base_uri": "https://localhost:8080/"
        },
        "id": "h5lCrxwwYnCZ",
        "outputId": "90292e26-b34e-49f5-877e-f2712db77a8e"
      },
      "execution_count": null,
      "outputs": [
        {
          "output_type": "stream",
          "name": "stdout",
          "text": [
            "Grayscale video conversion completed.\n"
          ]
        }
      ]
    }
  ]
}
