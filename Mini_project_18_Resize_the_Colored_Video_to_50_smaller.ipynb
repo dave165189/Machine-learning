{
  "nbformat": 4,
  "nbformat_minor": 0,
  "metadata": {
    "colab": {
      "provenance": [],
      "include_colab_link": true
    },
    "kernelspec": {
      "name": "python3",
      "display_name": "Python 3"
    },
    "language_info": {
      "name": "python"
    }
  },
  "cells": [
    {
      "cell_type": "markdown",
      "metadata": {
        "id": "view-in-github",
        "colab_type": "text"
      },
      "source": [
        "<a href=\"https://colab.research.google.com/github/dave165189/Machine-learning/blob/main/Mini_project_18_Resize_the_Colored_Video_to_50_smaller.ipynb\" target=\"_parent\"><img src=\"https://colab.research.google.com/assets/colab-badge.svg\" alt=\"Open In Colab\"/></a>"
      ]
    },
    {
      "cell_type": "markdown",
      "source": [
        "----\n",
        "## **\"Resizing Colored Video to Grey Scale (b/w)\" using OpenCV**\n",
        "----"
      ],
      "metadata": {
        "id": "7sZ8WOZIdWus"
      }
    },
    {
      "cell_type": "markdown",
      "source": [
        "----\n",
        "#### **Installing Important Libraries**\n",
        "----"
      ],
      "metadata": {
        "id": "fC5X5Bwvd3nn"
      }
    },
    {
      "cell_type": "code",
      "source": [
        "!pip install pytube"
      ],
      "metadata": {
        "colab": {
          "base_uri": "https://localhost:8080/"
        },
        "id": "_0-GgK1GYsqW",
        "outputId": "abab8b01-12e0-4216-a53e-ceae2aba0b26"
      },
      "execution_count": 1,
      "outputs": [
        {
          "output_type": "stream",
          "name": "stdout",
          "text": [
            "Looking in indexes: https://pypi.org/simple, https://us-python.pkg.dev/colab-wheels/public/simple/\n",
            "Collecting pytube\n",
            "  Downloading pytube-15.0.0-py3-none-any.whl (57 kB)\n",
            "\u001b[2K     \u001b[90m━━━━━━━━━━━━━━━━━━━━━━━━━━━━━━━━━━━━━━━━\u001b[0m \u001b[32m57.6/57.6 kB\u001b[0m \u001b[31m6.4 MB/s\u001b[0m eta \u001b[36m0:00:00\u001b[0m\n",
            "\u001b[?25hInstalling collected packages: pytube\n",
            "Successfully installed pytube-15.0.0\n"
          ]
        }
      ]
    },
    {
      "cell_type": "markdown",
      "source": [
        "----\n",
        "#### **Importing Important Libraries**\n",
        "----"
      ],
      "metadata": {
        "id": "zEIQW0BaeD_1"
      }
    },
    {
      "cell_type": "code",
      "source": [
        "from pytube import YouTube"
      ],
      "metadata": {
        "id": "aXZXjELrYnjL"
      },
      "execution_count": 2,
      "outputs": []
    },
    {
      "cell_type": "markdown",
      "source": [
        "----\n",
        "#### **Defining Download Video Function**\n",
        "----"
      ],
      "metadata": {
        "id": "qUIZSKEOeRCD"
      }
    },
    {
      "cell_type": "code",
      "source": [
        "def download_video(url, output_path):\n",
        "    try:\n",
        "        # Create a YouTube object\n",
        "        youtube = YouTube(url)\n",
        "\n",
        "        # Get the highest resolution video stream\n",
        "        video = youtube.streams.get_highest_resolution()\n",
        "\n",
        "        # Download the video to the specified output path\n",
        "        video.download(output_path=output_path)\n",
        "\n",
        "        print(\"Video downloaded successfully!\")\n",
        "    except Exception as e:\n",
        "        print(f\"Error: {str(e)}\")"
      ],
      "metadata": {
        "id": "qHv341qTYnff"
      },
      "execution_count": 3,
      "outputs": []
    },
    {
      "cell_type": "markdown",
      "source": [
        "----\n",
        "#### **Downloading Video**\n",
        "----"
      ],
      "metadata": {
        "id": "OjzhoLCKege-"
      }
    },
    {
      "cell_type": "code",
      "source": [
        "video_url = \"https://youtu.be/DK6IRG4CAbw\"\n",
        "output_path = \"./content/\"\n",
        "\n",
        "download_video(video_url, output_path)"
      ],
      "metadata": {
        "colab": {
          "base_uri": "https://localhost:8080/"
        },
        "id": "2u6YPI1QYnby",
        "outputId": "ee3a081d-a017-451a-b6ba-137f6187ecf4"
      },
      "execution_count": 4,
      "outputs": [
        {
          "output_type": "stream",
          "name": "stdout",
          "text": [
            "Video downloaded successfully!\n"
          ]
        }
      ]
    },
    {
      "cell_type": "code",
      "execution_count": 5,
      "metadata": {
        "colab": {
          "base_uri": "https://localhost:8080/"
        },
        "id": "jyKnBJdDn2dF",
        "outputId": "a353c405-571e-4e2a-d1e2-3cfd989f937d"
      },
      "outputs": [
        {
          "output_type": "stream",
          "name": "stdout",
          "text": [
            "Resizing of video completed.\n"
          ]
        }
      ],
      "source": [
        "import cv2\n",
        "\n",
        "# Open the video file\n",
        "video_path = \"https://youtu.be/DK6IRG4CAbw\"\n",
        "video = cv2.VideoCapture(video_path)\n",
        "\n",
        "# Get the video properties\n",
        "width = int(video.get(cv2.CAP_PROP_FRAME_WIDTH))\n",
        "height = int(video.get(cv2.CAP_PROP_FRAME_HEIGHT))\n",
        "fps = video.get(cv2.CAP_PROP_FPS)\n",
        "total_frames = int(video.get(cv2.CAP_PROP_FRAME_COUNT))\n",
        "\n",
        "# Create a VideoWriter object to save the grayscale video\n",
        "output_path = \"/content/file.mp4\"  # Replace with the desired output file path\n",
        "output = cv2.VideoWriter(output_path, cv2.VideoWriter_fourcc(*\"mp4v\"), fps, (width, height), isColor=False)\n",
        "\n",
        "# Process each frame of the video\n",
        "frame_count = 0\n",
        "while video.isOpened():\n",
        "    ret, frame = video.read()\n",
        "    if not ret:\n",
        "        break\n",
        "    # Get the original dimensions of the image\n",
        "        height, width = img.shape[:2]\n",
        "\n",
        "            # Calculate the new dimensions for 50% smaller size\n",
        "        new_width = int(width * 0.5)\n",
        "        new_height = int(height * 0.5)\n",
        "\n",
        "    # Convert the frame to grayscale\n",
        "    gray_frame = cv2.cvtColor(frame, cv2.COLOR_BGR2GRAY)\n",
        "\n",
        "    # Write the grayscale frame to the output video\n",
        "    output.write(gray_frame)\n",
        "\n",
        "    # Display the progress\n",
        "    frame_count += 1\n",
        "    print(f\"Processing frame {frame_count}/{total_frames}\")\n",
        "\n",
        "# Release the video capture and writer objects\n",
        "video.release()\n",
        "output.release()\n",
        "\n",
        "print(\"Resizing of video completed.\")"
      ]
    }
  ]
}