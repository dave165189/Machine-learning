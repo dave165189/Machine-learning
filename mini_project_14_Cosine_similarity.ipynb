{
  "nbformat": 4,
  "nbformat_minor": 0,
  "metadata": {
    "colab": {
      "provenance": [],
      "include_colab_link": true
    },
    "kernelspec": {
      "name": "python3",
      "display_name": "Python 3"
    },
    "language_info": {
      "name": "python"
    }
  },
  "cells": [
    {
      "cell_type": "markdown",
      "metadata": {
        "id": "view-in-github",
        "colab_type": "text"
      },
      "source": [
        "<a href=\"https://colab.research.google.com/github/dave165189/Machine-learning/blob/main/mini_project_14_Cosine_similarity.ipynb\" target=\"_parent\"><img src=\"https://colab.research.google.com/assets/colab-badge.svg\" alt=\"Open In Colab\"/></a>"
      ]
    },
    {
      "cell_type": "markdown",
      "source": [
        "-----\n",
        "## **Cosine Similarity**\n",
        "-----"
      ],
      "metadata": {
        "id": "zhX_aLuRfRfl"
      }
    },
    {
      "cell_type": "markdown",
      "source": [
        "----\n",
        "#### **Installing Important Libraries**\n",
        "----"
      ],
      "metadata": {
        "id": "DIQK9QlJfdSM"
      }
    },
    {
      "cell_type": "code",
      "execution_count": 1,
      "metadata": {
        "id": "MlorzasOODC4",
        "colab": {
          "base_uri": "https://localhost:8080/"
        },
        "outputId": "ab8f5ca4-9cb7-44d1-b760-e8d131c460be"
      },
      "outputs": [
        {
          "output_type": "stream",
          "name": "stdout",
          "text": [
            "Looking in indexes: https://pypi.org/simple, https://us-python.pkg.dev/colab-wheels/public/simple/\n",
            "Requirement already satisfied: pandas in /usr/local/lib/python3.10/dist-packages (1.5.3)\n",
            "Requirement already satisfied: python-dateutil>=2.8.1 in /usr/local/lib/python3.10/dist-packages (from pandas) (2.8.2)\n",
            "Requirement already satisfied: pytz>=2020.1 in /usr/local/lib/python3.10/dist-packages (from pandas) (2022.7.1)\n",
            "Requirement already satisfied: numpy>=1.21.0 in /usr/local/lib/python3.10/dist-packages (from pandas) (1.22.4)\n",
            "Requirement already satisfied: six>=1.5 in /usr/local/lib/python3.10/dist-packages (from python-dateutil>=2.8.1->pandas) (1.16.0)\n",
            "Looking in indexes: https://pypi.org/simple, https://us-python.pkg.dev/colab-wheels/public/simple/\n",
            "Collecting sklearn\n",
            "  Downloading sklearn-0.0.post5.tar.gz (3.7 kB)\n",
            "  Preparing metadata (setup.py) ... \u001b[?25l\u001b[?25hdone\n",
            "Building wheels for collected packages: sklearn\n",
            "  Building wheel for sklearn (setup.py) ... \u001b[?25l\u001b[?25hdone\n",
            "  Created wheel for sklearn: filename=sklearn-0.0.post5-py3-none-any.whl size=2950 sha256=2369db02fd3bcfbe416b8c44c94c68def96a50a96e711ac1769e14ab09815648\n",
            "  Stored in directory: /root/.cache/pip/wheels/38/1f/8d/4f812c590e074c1e928f5cec67bf5053b71f38e2648739403a\n",
            "Successfully built sklearn\n",
            "Installing collected packages: sklearn\n",
            "Successfully installed sklearn-0.0.post5\n"
          ]
        }
      ],
      "source": [
        "!pip install pandas\n",
        "!pip install sklearn"
      ]
    },
    {
      "cell_type": "markdown",
      "source": [
        "----\n",
        "#### **Importing Libraries**\n",
        "----"
      ],
      "metadata": {
        "id": "Ja6WOH7Jfl9Y"
      }
    },
    {
      "cell_type": "code",
      "source": [
        "import pandas as pd\n",
        "\n",
        "data = {'Car': [1,2,3],\n",
        "      'HP': [100,120,150]}   # Defining Data\n",
        "\n",
        "df = pd.DataFrame(data, columns = ['Car', 'HP'])\n",
        "\n",
        "print(df)"
      ],
      "metadata": {
        "colab": {
          "base_uri": "https://localhost:8080/"
        },
        "id": "DchlAdIVOVfu",
        "outputId": "785821c8-bba3-47e2-c30d-123107eb8309"
      },
      "execution_count": 2,
      "outputs": [
        {
          "output_type": "stream",
          "name": "stdout",
          "text": [
            "   Car   HP\n",
            "0    1  100\n",
            "1    2  120\n",
            "2    3  150\n"
          ]
        }
      ]
    },
    {
      "cell_type": "markdown",
      "source": [
        "----\n",
        "## **Cosine Similarities**\n",
        "----"
      ],
      "metadata": {
        "id": "pQPYOtcAf6uV"
      }
    },
    {
      "cell_type": "code",
      "source": [
        "from sklearn.metrics.pairwise import cosine_similarity # Importing sklearn library\n",
        "\n",
        "similarity = cosine_similarity(df)\n",
        "\n",
        "print(similarity)"
      ],
      "metadata": {
        "colab": {
          "base_uri": "https://localhost:8080/"
        },
        "id": "D9eBtzs3OVcM",
        "outputId": "c0bde05d-df7c-4ddc-ef34-31104178b85e"
      },
      "execution_count": 3,
      "outputs": [
        {
          "output_type": "stream",
          "name": "stdout",
          "text": [
            "[[1.         0.99997779 0.99995002]\n",
            " [0.99997779 1.         0.99999445]\n",
            " [0.99995002 0.99999445 1.        ]]\n"
          ]
        }
      ]
    }
  ]
}